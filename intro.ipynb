{
  "nbformat": 4,
  "nbformat_minor": 0,
  "metadata": {
    "colab": {
      "provenance": [],
      "authorship_tag": "ABX9TyP7nib4e/oYLWmkHk7RYoGY",
      "include_colab_link": true
    },
    "kernelspec": {
      "name": "python3",
      "display_name": "Python 3"
    },
    "language_info": {
      "name": "python"
    }
  },
  "cells": [
    {
      "cell_type": "markdown",
      "metadata": {
        "id": "view-in-github",
        "colab_type": "text"
      },
      "source": [
        "<a href=\"https://colab.research.google.com/github/weifengc/sklearn_100/blob/main/intro.ipynb\" target=\"_parent\"><img src=\"https://colab.research.google.com/assets/colab-badge.svg\" alt=\"Open In Colab\"/></a>"
      ]
    },
    {
      "cell_type": "code",
      "execution_count": null,
      "metadata": {
        "colab": {
          "base_uri": "https://localhost:8080/"
        },
        "id": "ZetzS6lF7JYK",
        "outputId": "4b92f31e-c4f1-4c3b-e7ef-922dc8f398c6"
      },
      "outputs": [
        {
          "output_type": "stream",
          "name": "stdout",
          "text": [
            "hello sklearn 100\n"
          ]
        }
      ],
      "source": [
        "print(\"hello sklearn 100\")"
      ]
    },
    {
      "cell_type": "code",
      "source": [
        "print(\"hello this is on github\")"
      ],
      "metadata": {
        "id": "UB-EOH7A7P2s",
        "colab": {
          "base_uri": "https://localhost:8080/"
        },
        "outputId": "a7037eac-4ebe-4b7c-aa65-cdba2bc45269"
      },
      "execution_count": 1,
      "outputs": [
        {
          "output_type": "stream",
          "name": "stdout",
          "text": [
            "hello this is on github\n"
          ]
        }
      ]
    },
    {
      "cell_type": "code",
      "source": [],
      "metadata": {
        "id": "H178QKYQ8lUu"
      },
      "execution_count": null,
      "outputs": []
    }
  ]
}